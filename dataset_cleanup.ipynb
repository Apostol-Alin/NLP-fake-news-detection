{
 "cells": [
  {
   "cell_type": "code",
   "execution_count": 21,
   "metadata": {},
   "outputs": [],
   "source": [
    "import pandas as pd\n",
    "from langdetect import detect\n",
    "from tqdm import tqdm"
   ]
  },
  {
   "cell_type": "code",
   "execution_count": null,
   "metadata": {},
   "outputs": [
    {
     "name": "stdout",
     "output_type": "stream",
     "text": [
      "     Unnamed: 0                                              title  \\\n",
      "188         188       Jack Heart: LUCIFER in the Temple of the Dog   \n",
      "189         189  Saudi Arabia faces battle to repatriate assets...   \n",
      "\n",
      "                                                  text  label  \n",
      "188  LUCIFER in the Temple of the Dog I By Jack Hea...      1  \n",
      "189  DUBAI/ZURICH (Reuters) - Saudi Arabia has anno...      0  \n"
     ]
    }
   ],
   "source": [
    "dataset = pd.read_csv('WELFake_Dataset.csv')"
   ]
  },
  {
   "cell_type": "code",
   "execution_count": 22,
   "metadata": {},
   "outputs": [
    {
     "name": "stderr",
     "output_type": "stream",
     "text": [
      "  1%|          | 425/72134 [00:07<19:08, 62.46it/s]"
     ]
    },
    {
     "name": "stdout",
     "output_type": "stream",
     "text": [
      "Error detecting language for text: https://www.youtube.com/watch?v=RRPSCqkAJgk\n"
     ]
    },
    {
     "name": "stderr",
     "output_type": "stream",
     "text": [
      "  1%|          | 807/72134 [00:14<20:53, 56.89it/s]"
     ]
    },
    {
     "name": "stdout",
     "output_type": "stream",
     "text": [
      "Error detecting language for text: https://fedup.wpengine.com/wp-content/uploads/2015/04/entitled.jpg\n"
     ]
    },
    {
     "name": "stderr",
     "output_type": "stream",
     "text": [
      "  3%|▎         | 1914/72134 [00:33<17:38, 66.33it/s]"
     ]
    },
    {
     "name": "stdout",
     "output_type": "stream",
     "text": [
      "Error detecting language for text: https://www.youtube.com/watch?v=hNPX8ZCIfc0&t=26s\n"
     ]
    },
    {
     "name": "stderr",
     "output_type": "stream",
     "text": [
      "  3%|▎         | 2186/72134 [00:38<19:17, 60.42it/s]"
     ]
    },
    {
     "name": "stdout",
     "output_type": "stream",
     "text": [
      "Error detecting language for text: https://www.youtube.com/watch?v=sMHGkzrwzKg\n"
     ]
    },
    {
     "name": "stderr",
     "output_type": "stream",
     "text": [
      "  4%|▎         | 2543/72134 [00:45<20:44, 55.90it/s]"
     ]
    },
    {
     "name": "stdout",
     "output_type": "stream",
     "text": [
      "Error detecting language for text: https://www.youtube.com/watch?v=sWbYpIj7CQ8\n"
     ]
    },
    {
     "name": "stderr",
     "output_type": "stream",
     "text": [
      "  5%|▍         | 3477/72134 [01:03<16:22, 69.90it/s]"
     ]
    },
    {
     "name": "stdout",
     "output_type": "stream",
     "text": [
      "Error detecting language for text: https://youtu.be/0J4xPRYbsLU\n"
     ]
    },
    {
     "name": "stderr",
     "output_type": "stream",
     "text": [
      "  5%|▌         | 3731/72134 [01:07<19:45, 57.69it/s]"
     ]
    },
    {
     "name": "stdout",
     "output_type": "stream",
     "text": [
      "Error detecting language for text: https://www.youtube.com/watch?v=gqxwF-TeYas\n"
     ]
    },
    {
     "name": "stderr",
     "output_type": "stream",
     "text": [
      "  6%|▌         | 4183/72134 [01:15<18:20, 61.77it/s]"
     ]
    },
    {
     "name": "stdout",
     "output_type": "stream",
     "text": [
      "Error detecting language for text: https://www.youtube.com/watch?v=YeDU6dCR9tA\n"
     ]
    },
    {
     "name": "stderr",
     "output_type": "stream",
     "text": [
      "  6%|▋         | 4567/72134 [01:21<18:14, 61.75it/s]"
     ]
    },
    {
     "name": "stdout",
     "output_type": "stream",
     "text": [
      "Error detecting language for text: https://www.youtube.com/watch?v=uQbAww5wajA\n"
     ]
    },
    {
     "name": "stderr",
     "output_type": "stream",
     "text": [
      "  8%|▊         | 5780/72134 [01:41<17:49, 62.03it/s]"
     ]
    },
    {
     "name": "stdout",
     "output_type": "stream",
     "text": [
      "Error detecting language for text: https://youtu.be/Ai5ayloRa-0\n"
     ]
    },
    {
     "name": "stderr",
     "output_type": "stream",
     "text": [
      "  9%|▊         | 6234/72134 [01:49<18:52, 58.18it/s]"
     ]
    },
    {
     "name": "stdout",
     "output_type": "stream",
     "text": [
      "Error detecting language for text: https://www.youtube.com/watch?v=VkRCtn0nEvU\n"
     ]
    },
    {
     "name": "stderr",
     "output_type": "stream",
     "text": [
      "  9%|▉         | 6733/72134 [02:00<17:41, 61.63it/s]"
     ]
    },
    {
     "name": "stdout",
     "output_type": "stream",
     "text": [
      "Error detecting language for text: https://www.youtube.com/watch?v=31MRqr9ydUU\n"
     ]
    },
    {
     "name": "stderr",
     "output_type": "stream",
     "text": [
      " 12%|█▏        | 8919/72134 [02:38<16:03, 65.59it/s]"
     ]
    },
    {
     "name": "stdout",
     "output_type": "stream",
     "text": [
      "Error detecting language for text: https://fedup.wpengine.com/wp-content/uploads/2015/04/hillarystreetart.jpg\n"
     ]
    },
    {
     "name": "stderr",
     "output_type": "stream",
     "text": [
      " 15%|█▍        | 10622/72134 [03:06<13:56, 73.55it/s]"
     ]
    },
    {
     "name": "stdout",
     "output_type": "stream",
     "text": [
      "Error detecting language for text: https://www.youtube.com/watch?v=8dsDdBqF828\n"
     ]
    },
    {
     "name": "stderr",
     "output_type": "stream",
     "text": [
      " 15%|█▌        | 10890/72134 [03:11<15:05, 67.66it/s]"
     ]
    },
    {
     "name": "stdout",
     "output_type": "stream",
     "text": [
      "Error detecting language for text: https://www.youtube.com/watch?v=-7Tn4gi_Os8\n"
     ]
    },
    {
     "name": "stderr",
     "output_type": "stream",
     "text": [
      " 16%|█▌        | 11445/72134 [03:21<18:39, 54.20it/s]"
     ]
    },
    {
     "name": "stdout",
     "output_type": "stream",
     "text": [
      "Error detecting language for text: https://www.youtube.com/watch?v=n9tfNMQpYWU\n"
     ]
    },
    {
     "name": "stderr",
     "output_type": "stream",
     "text": [
      " 16%|█▌        | 11645/72134 [03:25<19:34, 51.51it/s]"
     ]
    },
    {
     "name": "stdout",
     "output_type": "stream",
     "text": [
      "Error detecting language for text: https://www.youtube.com/watch?v=cJZFepSvxzM\n"
     ]
    },
    {
     "name": "stderr",
     "output_type": "stream",
     "text": [
      " 20%|█▉        | 14260/72134 [04:08<14:49, 65.09it/s]"
     ]
    },
    {
     "name": "stdout",
     "output_type": "stream",
     "text": [
      "Error detecting language for text: https://fedup.wpengine.com/wp-content/uploads/2015/04/hillarystreetart.jpg\n"
     ]
    },
    {
     "name": "stderr",
     "output_type": "stream",
     "text": [
      " 20%|██        | 14633/72134 [04:15<18:05, 52.95it/s]"
     ]
    },
    {
     "name": "stdout",
     "output_type": "stream",
     "text": [
      "Error detecting language for text: https://www.youtube.com/watch?v=SH0pRtK9sAE\n"
     ]
    },
    {
     "name": "stderr",
     "output_type": "stream",
     "text": [
      " 21%|██        | 14846/72134 [04:18<11:54, 80.22it/s]"
     ]
    },
    {
     "name": "stdout",
     "output_type": "stream",
     "text": [
      "Error detecting language for text: https://www.youtube.com/watch?v=Ws5ojb0PCCo\n"
     ]
    },
    {
     "name": "stderr",
     "output_type": "stream",
     "text": [
      " 21%|██        | 15228/72134 [04:24<15:31, 61.12it/s]"
     ]
    },
    {
     "name": "stdout",
     "output_type": "stream",
     "text": [
      "Error detecting language for text: https://www.youtube.com/watch?v=DRLVvYzG46w\n"
     ]
    },
    {
     "name": "stderr",
     "output_type": "stream",
     "text": [
      " 22%|██▏       | 16019/72134 [04:38<16:51, 55.49it/s]"
     ]
    },
    {
     "name": "stdout",
     "output_type": "stream",
     "text": [
      "Error detecting language for text: https://youtu.be/kKFQ5i9jXmA\n"
     ]
    },
    {
     "name": "stderr",
     "output_type": "stream",
     "text": [
      " 23%|██▎       | 16829/72134 [04:52<15:21, 60.02it/s]"
     ]
    },
    {
     "name": "stdout",
     "output_type": "stream",
     "text": [
      "Error detecting language for text: https://www.youtube.com/watch?v=rUr8pYr5AXs\n"
     ]
    },
    {
     "name": "stderr",
     "output_type": "stream",
     "text": [
      " 24%|██▎       | 17072/72134 [04:57<15:04, 60.88it/s]"
     ]
    },
    {
     "name": "stdout",
     "output_type": "stream",
     "text": [
      "Error detecting language for text: https://www.youtube.com/watch?v=wYdX071Nlow\n"
     ]
    },
    {
     "name": "stderr",
     "output_type": "stream",
     "text": [
      " 24%|██▍       | 17250/72134 [05:00<13:24, 68.23it/s]"
     ]
    },
    {
     "name": "stdout",
     "output_type": "stream",
     "text": [
      "Error detecting language for text: https://www.youtube.com/watch?time_continue=139&v=Iil1Z8-A1GA\n"
     ]
    },
    {
     "name": "stderr",
     "output_type": "stream",
     "text": [
      " 28%|██▊       | 20018/72134 [05:47<14:00, 62.00it/s]"
     ]
    },
    {
     "name": "stdout",
     "output_type": "stream",
     "text": [
      "Error detecting language for text: https://www.youtube.com/watch?v=8dsDdBqF828\n"
     ]
    },
    {
     "name": "stderr",
     "output_type": "stream",
     "text": [
      " 28%|██▊       | 20099/72134 [05:48<12:02, 72.06it/s]"
     ]
    },
    {
     "name": "stdout",
     "output_type": "stream",
     "text": [
      "Error detecting language for text: https://www.youtube.com/watch?v=VkRCtn0nEvU\n"
     ]
    },
    {
     "name": "stderr",
     "output_type": "stream",
     "text": [
      " 29%|██▉       | 20815/72134 [06:01<19:27, 43.97it/s]"
     ]
    },
    {
     "name": "stdout",
     "output_type": "stream",
     "text": [
      "Error detecting language for text: https://twitter.com/Rosie/status/800939338615824384\n"
     ]
    },
    {
     "name": "stderr",
     "output_type": "stream",
     "text": [
      " 29%|██▉       | 20895/72134 [06:03<15:13, 56.12it/s]"
     ]
    },
    {
     "name": "stdout",
     "output_type": "stream",
     "text": [
      "Error detecting language for text: https://www.youtube.com/watch?v=9LNyx_DWzzA\n"
     ]
    },
    {
     "name": "stderr",
     "output_type": "stream",
     "text": [
      " 30%|███       | 21667/72134 [06:17<15:56, 52.76it/s]"
     ]
    },
    {
     "name": "stdout",
     "output_type": "stream",
     "text": [
      "Error detecting language for text: https://www.youtube.com/watch?v=_FNt3ns_EGA\n"
     ]
    },
    {
     "name": "stderr",
     "output_type": "stream",
     "text": [
      " 30%|███       | 21748/72134 [06:19<12:44, 65.91it/s]"
     ]
    },
    {
     "name": "stdout",
     "output_type": "stream",
     "text": [
      "Error detecting language for text: https://www.youtube.com/watch?v=8Mehk5eWcZA\n"
     ]
    },
    {
     "name": "stderr",
     "output_type": "stream",
     "text": [
      " 32%|███▏      | 23387/72134 [06:47<11:51, 68.51it/s]"
     ]
    },
    {
     "name": "stdout",
     "output_type": "stream",
     "text": [
      "Error detecting language for text: https://www.youtube.com/watch?v=aHkNzBRqPCE\n"
     ]
    },
    {
     "name": "stderr",
     "output_type": "stream",
     "text": [
      " 33%|███▎      | 23554/72134 [06:50<15:34, 51.99it/s]"
     ]
    },
    {
     "name": "stdout",
     "output_type": "stream",
     "text": [
      "Error detecting language for text: https://www.youtube.com/watch?v=0cVugq2GbBk\n"
     ]
    },
    {
     "name": "stderr",
     "output_type": "stream",
     "text": [
      " 33%|███▎      | 23964/72134 [06:58<13:12, 60.77it/s]"
     ]
    },
    {
     "name": "stdout",
     "output_type": "stream",
     "text": [
      "Error detecting language for text: https://www.youtube.com/watch?time_continue=1&v=NeqMSI6OR5Q\n"
     ]
    },
    {
     "name": "stderr",
     "output_type": "stream",
     "text": [
      " 34%|███▎      | 24297/72134 [07:05<12:42, 62.73it/s]"
     ]
    },
    {
     "name": "stdout",
     "output_type": "stream",
     "text": [
      "Error detecting language for text: https://www.youtube.com/watch?v=EOr9fwoc_mo\n"
     ]
    },
    {
     "name": "stderr",
     "output_type": "stream",
     "text": [
      " 36%|███▌      | 25958/72134 [07:38<12:14, 62.87it/s]"
     ]
    },
    {
     "name": "stdout",
     "output_type": "stream",
     "text": [
      "Error detecting language for text: https://www.youtube.com/watch?v=P-TBfkqk7gU\n"
     ]
    },
    {
     "name": "stderr",
     "output_type": "stream",
     "text": [
      " 36%|███▋      | 26291/72134 [07:43<09:17, 82.23it/s]"
     ]
    },
    {
     "name": "stdout",
     "output_type": "stream",
     "text": [
      "Error detecting language for text: https://fedup.wpengine.com/wp-content/uploads/2015/04/hillarystreetart.jpg\n"
     ]
    },
    {
     "name": "stderr",
     "output_type": "stream",
     "text": [
      " 37%|███▋      | 26962/72134 [07:55<13:22, 56.28it/s]"
     ]
    },
    {
     "name": "stdout",
     "output_type": "stream",
     "text": [
      "Error detecting language for text: https://www.youtube.com/watch?v=DRLVvYzG46w\n"
     ]
    },
    {
     "name": "stderr",
     "output_type": "stream",
     "text": [
      " 38%|███▊      | 27102/72134 [07:58<18:20, 40.91it/s]"
     ]
    },
    {
     "name": "stdout",
     "output_type": "stream",
     "text": [
      "Error detecting language for text: https://www.youtube.com/watch?v=EOr9fwoc_mo\n"
     ]
    },
    {
     "name": "stderr",
     "output_type": "stream",
     "text": [
      " 38%|███▊      | 27203/72134 [08:00<14:20, 52.21it/s]"
     ]
    },
    {
     "name": "stdout",
     "output_type": "stream",
     "text": [
      "Error detecting language for text: https://youtu.be/kKFQ5i9jXmA\n"
     ]
    },
    {
     "name": "stderr",
     "output_type": "stream",
     "text": [
      " 38%|███▊      | 27252/72134 [08:01<11:51, 63.06it/s]"
     ]
    },
    {
     "name": "stdout",
     "output_type": "stream",
     "text": [
      "Error detecting language for text: https://fedup.wpengine.com/wp-content/uploads/2015/04/entitled.jpg\n"
     ]
    },
    {
     "name": "stderr",
     "output_type": "stream",
     "text": [
      " 38%|███▊      | 27487/72134 [08:06<14:23, 51.72it/s]"
     ]
    },
    {
     "name": "stdout",
     "output_type": "stream",
     "text": [
      "Error detecting language for text: https://www.youtube.com/watch?v=PjeOoJyPNCk\n"
     ]
    },
    {
     "name": "stderr",
     "output_type": "stream",
     "text": [
      " 40%|████      | 28889/72134 [08:29<10:45, 67.02it/s]"
     ]
    },
    {
     "name": "stdout",
     "output_type": "stream",
     "text": [
      "Error detecting language for text: https://www.youtube.com/watch?v=HXJZbPAf0sk\n"
     ]
    },
    {
     "name": "stderr",
     "output_type": "stream",
     "text": [
      " 40%|████      | 29093/72134 [08:32<09:37, 74.48it/s]"
     ]
    },
    {
     "name": "stdout",
     "output_type": "stream",
     "text": [
      "Error detecting language for text: https://www.youtube.com/watch?v=J4LjxrOfEF8\n"
     ]
    },
    {
     "name": "stderr",
     "output_type": "stream",
     "text": [
      " 44%|████▍     | 31833/72134 [09:18<08:55, 75.32it/s]"
     ]
    },
    {
     "name": "stdout",
     "output_type": "stream",
     "text": [
      "Error detecting language for text: 🙂\n"
     ]
    },
    {
     "name": "stderr",
     "output_type": "stream",
     "text": [
      " 46%|████▋     | 33450/72134 [09:45<10:39, 60.51it/s]"
     ]
    },
    {
     "name": "stdout",
     "output_type": "stream",
     "text": [
      "Error detecting language for text: https://www.youtube.com/watch?v=ISm-p8e-D7I\n"
     ]
    },
    {
     "name": "stderr",
     "output_type": "stream",
     "text": [
      " 48%|████▊     | 34588/72134 [10:04<08:59, 69.58it/s]"
     ]
    },
    {
     "name": "stdout",
     "output_type": "stream",
     "text": [
      "Error detecting language for text: https://youtu.be/0J4xPRYbsLU\n"
     ]
    },
    {
     "name": "stderr",
     "output_type": "stream",
     "text": [
      " 49%|████▉     | 35525/72134 [10:19<10:28, 58.29it/s]"
     ]
    },
    {
     "name": "stdout",
     "output_type": "stream",
     "text": [
      "Error detecting language for text: https://www.youtube.com/watch?v=IPqrimR8GWw\n"
     ]
    },
    {
     "name": "stderr",
     "output_type": "stream",
     "text": [
      " 49%|████▉     | 35636/72134 [10:21<09:24, 64.68it/s]"
     ]
    },
    {
     "name": "stdout",
     "output_type": "stream",
     "text": [
      "Error detecting language for text: https://www.youtube.com/watch?v=9LNyx_DWzzA\n"
     ]
    },
    {
     "name": "stderr",
     "output_type": "stream",
     "text": [
      " 52%|█████▏    | 37601/72134 [10:54<08:56, 64.37it/s]"
     ]
    },
    {
     "name": "stdout",
     "output_type": "stream",
     "text": [
      "Error detecting language for text: https://www.youtube.com/watch?time_continue=139&v=Iil1Z8-A1GA\n"
     ]
    },
    {
     "name": "stderr",
     "output_type": "stream",
     "text": [
      " 53%|█████▎    | 38578/72134 [11:11<09:02, 61.81it/s]"
     ]
    },
    {
     "name": "stdout",
     "output_type": "stream",
     "text": [
      "Error detecting language for text: https://www.youtube.com/watch?v=31MRqr9ydUU\n"
     ]
    },
    {
     "name": "stderr",
     "output_type": "stream",
     "text": [
      " 54%|█████▍    | 39068/72134 [11:21<10:15, 53.72it/s]"
     ]
    },
    {
     "name": "stdout",
     "output_type": "stream",
     "text": [
      "Error detecting language for text: https://www.youtube.com/watch?v=uCS4RB9G13M\n"
     ]
    },
    {
     "name": "stderr",
     "output_type": "stream",
     "text": [
      " 55%|█████▍    | 39526/72134 [11:30<08:40, 62.62it/s]"
     ]
    },
    {
     "name": "stdout",
     "output_type": "stream",
     "text": [
      "Error detecting language for text: https://youtu.be/RTuxvWjH3a4\n"
     ]
    },
    {
     "name": "stderr",
     "output_type": "stream",
     "text": [
      " 57%|█████▋    | 40984/72134 [11:54<07:50, 66.26it/s]"
     ]
    },
    {
     "name": "stdout",
     "output_type": "stream",
     "text": [
      "Error detecting language for text: https://www.youtube.com/watch?v=wYdX071Nlow\n"
     ]
    },
    {
     "name": "stderr",
     "output_type": "stream",
     "text": [
      " 59%|█████▉    | 42788/72134 [12:25<07:59, 61.20it/s]"
     ]
    },
    {
     "name": "stdout",
     "output_type": "stream",
     "text": [
      "Error detecting language for text: https://100percentfedup.com/served-roy-moore-vietnamletter-veteran-sets-record-straight-honorable-decent-respectable-patriotic-commander-soldier/\n"
     ]
    },
    {
     "name": "stderr",
     "output_type": "stream",
     "text": [
      " 60%|█████▉    | 42952/72134 [12:28<07:32, 64.46it/s]"
     ]
    },
    {
     "name": "stdout",
     "output_type": "stream",
     "text": [
      "Error detecting language for text: https://www.youtube.com/watch?v=_FNt3ns_EGA\n"
     ]
    },
    {
     "name": "stderr",
     "output_type": "stream",
     "text": [
      " 61%|██████    | 43642/72134 [12:40<08:00, 59.26it/s]"
     ]
    },
    {
     "name": "stdout",
     "output_type": "stream",
     "text": [
      "Error detecting language for text: https://www.youtube.com/watch?feature=player_embedded&v=JebHe3049aA\n"
     ]
    },
    {
     "name": "stderr",
     "output_type": "stream",
     "text": [
      " 61%|██████    | 44108/72134 [12:47<07:20, 63.67it/s]"
     ]
    },
    {
     "name": "stdout",
     "output_type": "stream",
     "text": [
      "Error detecting language for text: https://www.youtube.com/watch?v=hNPX8ZCIfc0&t=26s\n"
     ]
    },
    {
     "name": "stderr",
     "output_type": "stream",
     "text": [
      " 62%|██████▏   | 44636/72134 [12:56<07:36, 60.21it/s]"
     ]
    },
    {
     "name": "stdout",
     "output_type": "stream",
     "text": [
      "Error detecting language for text: https://www.youtube.com/watch?v=IioEIUmawRo\n"
     ]
    },
    {
     "name": "stderr",
     "output_type": "stream",
     "text": [
      " 62%|██████▏   | 44871/72134 [13:00<07:30, 60.47it/s]"
     ]
    },
    {
     "name": "stdout",
     "output_type": "stream",
     "text": [
      "Error detecting language for text: https://100percentfedup.com/12-yr-old-black-conservative-whose-video-to-obama-went-viral-do-you-really-love-america-receives-death-threats-from-left/\n"
     ]
    },
    {
     "name": "stderr",
     "output_type": "stream",
     "text": [
      " 63%|██████▎   | 45095/72134 [13:03<08:08, 55.34it/s]"
     ]
    },
    {
     "name": "stdout",
     "output_type": "stream",
     "text": [
      "Error detecting language for text: https://www.youtube.com/watch?v=Ws5ojb0PCCo\n",
      "Error detecting language for text: https://www.youtube.com/watch?v=zZ7GrEItGoo\n"
     ]
    },
    {
     "name": "stderr",
     "output_type": "stream",
     "text": [
      " 64%|██████▍   | 46371/72134 [13:25<07:16, 59.05it/s]"
     ]
    },
    {
     "name": "stdout",
     "output_type": "stream",
     "text": [
      "Error detecting language for text: https://www.youtube.com/watch?v=8Mehk5eWcZA\n"
     ]
    },
    {
     "name": "stderr",
     "output_type": "stream",
     "text": [
      " 65%|██████▍   | 46613/72134 [13:29<07:04, 60.15it/s]"
     ]
    },
    {
     "name": "stdout",
     "output_type": "stream",
     "text": [
      "Error detecting language for text: https://www.youtube.com/watch?time_continue=2&v=IjWClQcKhD8\n"
     ]
    },
    {
     "name": "stderr",
     "output_type": "stream",
     "text": [
      " 69%|██████▉   | 49902/72134 [14:29<05:24, 68.56it/s]"
     ]
    },
    {
     "name": "stdout",
     "output_type": "stream",
     "text": [
      "Error detecting language for text: https://www.youtube.com/watch?v=tY0ApLE6dns\n"
     ]
    },
    {
     "name": "stderr",
     "output_type": "stream",
     "text": [
      " 70%|███████   | 50677/72134 [14:42<06:12, 57.62it/s]"
     ]
    },
    {
     "name": "stdout",
     "output_type": "stream",
     "text": [
      "Error detecting language for text:   https://www.youtube.com/watch?v=yRXmFmgoPTk\n"
     ]
    },
    {
     "name": "stderr",
     "output_type": "stream",
     "text": [
      " 72%|███████▏  | 52164/72134 [15:06<05:27, 60.96it/s]"
     ]
    },
    {
     "name": "stdout",
     "output_type": "stream",
     "text": [
      "Error detecting language for text: https://www.youtube.com/watch?v=YeDU6dCR9tA\n"
     ]
    },
    {
     "name": "stderr",
     "output_type": "stream",
     "text": [
      " 72%|███████▏  | 52285/72134 [15:08<04:54, 67.49it/s]"
     ]
    },
    {
     "name": "stdout",
     "output_type": "stream",
     "text": [
      "Error detecting language for text: https://youtu.be/7oOhwHG2Gb4\n"
     ]
    },
    {
     "name": "stderr",
     "output_type": "stream",
     "text": [
      " 73%|███████▎  | 52614/72134 [15:14<05:16, 61.58it/s]"
     ]
    },
    {
     "name": "stdout",
     "output_type": "stream",
     "text": [
      "Error detecting language for text: https://www.youtube.com/watch?time_continue=2&v=IjWClQcKhD8\n"
     ]
    },
    {
     "name": "stderr",
     "output_type": "stream",
     "text": [
      " 73%|███████▎  | 52710/72134 [15:16<07:24, 43.69it/s]"
     ]
    },
    {
     "name": "stdout",
     "output_type": "stream",
     "text": [
      "Error detecting language for text: https://100percentfedup.com/video-hillary-asked-about-trump-i-just-want-to-eat-some-pie/\n"
     ]
    },
    {
     "name": "stderr",
     "output_type": "stream",
     "text": [
      " 76%|███████▋  | 55022/72134 [15:54<03:49, 74.57it/s]"
     ]
    },
    {
     "name": "stdout",
     "output_type": "stream",
     "text": [
      "Error detecting language for text: https://www.youtube.com/watch?v=IioEIUmawRo\n"
     ]
    },
    {
     "name": "stderr",
     "output_type": "stream",
     "text": [
      " 78%|███████▊  | 56132/72134 [16:13<04:39, 57.28it/s]"
     ]
    },
    {
     "name": "stdout",
     "output_type": "stream",
     "text": [
      "Error detecting language for text: https://www.youtube.com/watch?v=CCr0qvehJIk\n"
     ]
    },
    {
     "name": "stderr",
     "output_type": "stream",
     "text": [
      " 78%|███████▊  | 56573/72134 [16:21<04:27, 58.09it/s]"
     ]
    },
    {
     "name": "stdout",
     "output_type": "stream",
     "text": [
      "Error detecting language for text: https://www.youtube.com/watch?time_continue=1&v=NeqMSI6OR5Q\n"
     ]
    },
    {
     "name": "stderr",
     "output_type": "stream",
     "text": [
      " 80%|███████▉  | 57706/72134 [16:39<03:12, 75.07it/s]"
     ]
    },
    {
     "name": "stdout",
     "output_type": "stream",
     "text": [
      "Error detecting language for text: https://www.youtube.com/watch?v=6VN1maBEKIk\n"
     ]
    },
    {
     "name": "stderr",
     "output_type": "stream",
     "text": [
      " 80%|████████  | 57828/72134 [16:42<04:17, 55.48it/s]"
     ]
    },
    {
     "name": "stdout",
     "output_type": "stream",
     "text": [
      "Error detecting language for text:   https://www.youtube.com/watch?v=yRXmFmgoPTk\n"
     ]
    },
    {
     "name": "stderr",
     "output_type": "stream",
     "text": [
      " 84%|████████▎ | 60357/72134 [17:26<03:16, 59.81it/s]"
     ]
    },
    {
     "name": "stdout",
     "output_type": "stream",
     "text": [
      "Error detecting language for text: 11/08/2016  \n"
     ]
    },
    {
     "name": "stderr",
     "output_type": "stream",
     "text": [
      " 84%|████████▎ | 60404/72134 [17:26<02:39, 73.53it/s]"
     ]
    },
    {
     "name": "stdout",
     "output_type": "stream",
     "text": [
      "Error detecting language for text: https://www.youtube.com/watch?v=PjeOoJyPNCk\n"
     ]
    },
    {
     "name": "stderr",
     "output_type": "stream",
     "text": [
      " 84%|████████▍ | 60821/72134 [17:33<02:53, 65.21it/s]"
     ]
    },
    {
     "name": "stdout",
     "output_type": "stream",
     "text": [
      "Error detecting language for text: https://www.youtube.com/watch?v=1RVqTfIKGbU\n"
     ]
    },
    {
     "name": "stderr",
     "output_type": "stream",
     "text": [
      " 85%|████████▌ | 61600/72134 [17:46<02:54, 60.51it/s]"
     ]
    },
    {
     "name": "stdout",
     "output_type": "stream",
     "text": [
      "Error detecting language for text: https://www.youtube.com/watch?v=P-TBfkqk7gU\n"
     ]
    },
    {
     "name": "stderr",
     "output_type": "stream",
     "text": [
      " 91%|█████████ | 65285/72134 [18:53<02:01, 56.19it/s]"
     ]
    },
    {
     "name": "stdout",
     "output_type": "stream",
     "text": [
      "Error detecting language for text: https://www.youtube.com/watch?v=J4LjxrOfEF8\n"
     ]
    },
    {
     "name": "stderr",
     "output_type": "stream",
     "text": [
      " 92%|█████████▏| 66389/72134 [19:12<01:30, 63.52it/s]"
     ]
    },
    {
     "name": "stdout",
     "output_type": "stream",
     "text": [
      "Error detecting language for text: https://www.youtube.com/watch?v=SH0pRtK9sAE\n"
     ]
    },
    {
     "name": "stderr",
     "output_type": "stream",
     "text": [
      " 92%|█████████▏| 66537/72134 [19:15<01:46, 52.74it/s]"
     ]
    },
    {
     "name": "stdout",
     "output_type": "stream",
     "text": [
      "Error detecting language for text: https://twitter.com/Rosie/status/800939338615824384\n"
     ]
    },
    {
     "name": "stderr",
     "output_type": "stream",
     "text": [
      " 94%|█████████▎| 67448/72134 [19:32<01:24, 55.58it/s]"
     ]
    },
    {
     "name": "stdout",
     "output_type": "stream",
     "text": [
      "Error detecting language for text: https://www.youtube.com/watch?v=zZ7GrEItGoo\n"
     ]
    },
    {
     "name": "stderr",
     "output_type": "stream",
     "text": [
      " 95%|█████████▍| 68394/72134 [19:48<01:10, 52.89it/s]"
     ]
    },
    {
     "name": "stdout",
     "output_type": "stream",
     "text": [
      "Error detecting language for text: https://fedup.wpengine.com/wp-content/uploads/2015/04/entitled.jpg\n"
     ]
    },
    {
     "name": "stderr",
     "output_type": "stream",
     "text": [
      " 96%|█████████▌| 69191/72134 [20:02<00:44, 65.53it/s]"
     ]
    },
    {
     "name": "stdout",
     "output_type": "stream",
     "text": [
      "Error detecting language for text: 11/08/2016  \n"
     ]
    },
    {
     "name": "stderr",
     "output_type": "stream",
     "text": [
      " 99%|█████████▊| 71086/72134 [20:36<00:18, 58.16it/s]"
     ]
    },
    {
     "name": "stdout",
     "output_type": "stream",
     "text": [
      "Error detecting language for text: https://www.youtube.com/watch?v=PjeOoJyPNCk\n"
     ]
    },
    {
     "name": "stderr",
     "output_type": "stream",
     "text": [
      " 99%|█████████▉| 71346/72134 [20:40<00:09, 80.01it/s]"
     ]
    },
    {
     "name": "stdout",
     "output_type": "stream",
     "text": [
      "Error detecting language for text: https://youtu.be/RTuxvWjH3a4\n"
     ]
    },
    {
     "name": "stderr",
     "output_type": "stream",
     "text": [
      "100%|██████████| 72134/72134 [20:54<00:00, 57.51it/s]\n"
     ]
    },
    {
     "name": "stdout",
     "output_type": "stream",
     "text": [
      "Language distribution in original dataset: {'en': 70703, 'fr': 43, 'ar': 19, 'de': 110, 'es': 145, 'ru': 156, 'sw': 14, 'pl': 4, 'so': 4, 'pt': 12, 'it': 6, 'tr': 7, 'nl': 5, 'fi': 3, 'tl': 3, 'hr': 3, 'et': 1, 'vi': 2, 'ro': 4, 'no': 5, 'da': 1, 'af': 3, 'el': 2, 'zh-cn': 1, 'hu': 1, 'cy': 1, 'ca': 1, 'sq': 1, 'id': 2, 'sv': 1, 'lt': 1}\n",
      "Empty texts removed: 783\n",
      "Non-English texts removed: 561\n",
      "Cleaned dataset saved to 'dataset_clean.csv'\n"
     ]
    }
   ],
   "source": [
    "languages = {}\n",
    "empty_texts = 0\n",
    "non_english_texts = 0\n",
    "cleaned_data = []\n",
    "\n",
    "for index, text in tqdm(dataset['text'].items(), total=len(dataset)):\n",
    "    if isinstance(text, str) and text.strip():  # Check if text is a non-empty string\n",
    "        try:\n",
    "            detected_language = detect(text)\n",
    "            if detected_language in languages:\n",
    "                languages[detected_language] += 1\n",
    "            else:\n",
    "                languages[detected_language] = 1\n",
    "            if detected_language == 'en':  # Keep only English texts\n",
    "                cleaned_data.append(dataset.iloc[index])\n",
    "            else:\n",
    "                non_english_texts += 1\n",
    "        except Exception as e:\n",
    "            print(f\"Error detecting language for text: {text}\")\n",
    "    else:\n",
    "        empty_texts += 1\n",
    "\n",
    "cleaned_dataset = pd.DataFrame(cleaned_data)\n",
    "\n",
    "cleaned_dataset.to_csv('dataset_clean.csv', index=False)\n",
    "\n",
    "print(\"Language distribution in original dataset:\", languages)\n",
    "print(f\"Empty texts removed: {empty_texts}\")\n",
    "print(f\"Non-English texts removed: {non_english_texts}\")\n",
    "print(f\"Cleaned dataset saved to 'dataset_clean.csv'\")"
   ]
  }
 ],
 "metadata": {
  "kernelspec": {
   "display_name": "nlp",
   "language": "python",
   "name": "python3"
  },
  "language_info": {
   "codemirror_mode": {
    "name": "ipython",
    "version": 3
   },
   "file_extension": ".py",
   "mimetype": "text/x-python",
   "name": "python",
   "nbconvert_exporter": "python",
   "pygments_lexer": "ipython3",
   "version": "3.13.2"
  }
 },
 "nbformat": 4,
 "nbformat_minor": 2
}
