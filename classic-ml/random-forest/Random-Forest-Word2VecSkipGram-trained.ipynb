{
 "cells": [
  {
   "cell_type": "code",
   "id": "initial_id",
   "metadata": {
    "collapsed": true,
    "ExecuteTime": {
     "end_time": "2025-04-02T12:35:59.363937Z",
     "start_time": "2025-04-02T12:35:56.509815Z"
    }
   },
   "source": [
    "import pandas as pd\n",
    "import numpy as np\n",
    "from gensim.models import Word2Vec\n",
    "from sklearn.metrics import accuracy_score\n",
    "import time\n",
    "from sklearn.ensemble import RandomForestClassifier\n",
    "import pickle\n",
    "from sklearn.metrics import confusion_matrix\n",
    "import seaborn as sns\n",
    "from wordcloud import WordCloud\n",
    "import matplotlib.pyplot as plt\n",
    "from nltk import ngrams\n",
    "from collections import Counter\n"
   ],
   "execution_count": 1,
   "outputs": []
  },
  {
   "metadata": {
    "ExecuteTime": {
     "end_time": "2025-04-02T12:36:11.902603Z",
     "start_time": "2025-04-02T12:36:08.956583Z"
    }
   },
   "cell_type": "code",
   "source": [
    "train_data = pd.read_csv('../../dataset2/dataset/train_data.csv')  \n",
    "val_data = pd.read_csv('../../dataset2/dataset/val_data.csv')   \n",
    "test_data = pd.read_csv('../../dataset2/dataset/test_data.csv') "
   ],
   "id": "b2109d80602fd200",
   "execution_count": 2,
   "outputs": []
  },
  {
   "metadata": {
    "ExecuteTime": {
     "end_time": "2025-04-02T12:36:11.918056Z",
     "start_time": "2025-04-02T12:36:11.909086Z"
    }
   },
   "cell_type": "code",
   "source": [
    "x_train, y_train = train_data['text'], train_data['label']\n",
    "x_val, y_val = val_data['text'], val_data['label']\n",
    "x_test, y_test = test_data['text'], test_data['label']"
   ],
   "id": "faf9debea26d080a",
   "execution_count": 3,
   "outputs": []
  },
  {
   "metadata": {
    "ExecuteTime": {
     "end_time": "2025-04-02T12:36:16.250716Z",
     "start_time": "2025-04-02T12:36:11.920432Z"
    }
   },
   "cell_type": "code",
   "source": [
    "x_train_tokens = x_train.apply(lambda x: x.lower().split())\n",
    "x_val_tokens = x_val.apply(lambda x: x.lower().split())\n",
    "x_test_tokens = x_test.apply(lambda x: x.lower().split())"
   ],
   "id": "7f2365505ea2794",
   "execution_count": 4,
   "outputs": []
  },
  {
   "metadata": {
    "ExecuteTime": {
     "end_time": "2025-04-02T11:02:26.193785Z",
     "start_time": "2025-04-02T10:56:31.954554Z"
    }
   },
   "cell_type": "code",
   "source": [
    "t_start = time.time()\n",
    "#sg=1 => SkipGram\n",
    "word2vec_model = Word2Vec(sentences=x_train_tokens, vector_size=100, window=5, min_count=1, workers=4, sg=1, seed=42)\n",
    "t_end = time.time()\n",
    "print('Time taken to build Word2Vec model: {} seconds'.format(t_end - t_start))\n",
    "\n",
    "pickle.dump(word2vec_model, open('./models/word2vecSG.pkl',\"wb\"))"
   ],
   "id": "d564df9b2b364df3",
   "execution_count": 7,
   "outputs": []
  },
  {
   "metadata": {
    "ExecuteTime": {
     "end_time": "2025-04-02T11:03:01.667168Z",
     "start_time": "2025-04-02T11:03:01.645029Z"
    }
   },
   "cell_type": "code",
   "source": [
    "def text_to_vector(words, model):\n",
    "    valid_vectors = [model.wv[word] for word in words if word in model.wv]\n",
    "    return np.mean(valid_vectors, axis=0) if valid_vectors else np.zeros(model.vector_size)"
   ],
   "id": "50200c2326bfce28",
   "execution_count": 8,
   "outputs": []
  },
  {
   "metadata": {
    "ExecuteTime": {
     "end_time": "2025-04-02T11:04:02.549833Z",
     "start_time": "2025-04-02T11:03:03.556813Z"
    }
   },
   "cell_type": "code",
   "source": [
    "train_embeddings = np.array([text_to_vector(sentence, word2vec_model) for sentence in x_train_tokens])\n",
    "val_embeddings = np.array([text_to_vector(sentence, word2vec_model) for sentence in x_val_tokens])\n",
    "test_embeddings = np.array([text_to_vector(sentence, word2vec_model) for sentence in x_test_tokens])"
   ],
   "id": "a55db5d7fc83b67f",
   "execution_count": 9,
   "outputs": []
  },
  {
   "metadata": {
    "ExecuteTime": {
     "end_time": "2025-04-02T11:05:41.872574Z",
     "start_time": "2025-04-02T11:04:05.089368Z"
    }
   },
   "cell_type": "code",
   "source": [
    "t_start = time.time()\n",
    "random_forest = RandomForestClassifier(\n",
    "    n_estimators=200,       \n",
    "    max_depth=10,           \n",
    "    min_samples_split=5,     \n",
    "    min_samples_leaf=2,      \n",
    "    max_features=\"sqrt\",     \n",
    "    class_weight=\"balanced\", \n",
    "    bootstrap=True,         \n",
    "    random_state=42,\n",
    "    verbose=1\n",
    ")\n",
    "random_forest.fit(train_embeddings, y_train)\n",
    "t_end = time.time()\n",
    "print('Time taken to fit Random Forest model: {}'.format(t_end - t_start))\n",
    "pickle.dump(word2vec_model, open('./models/random_forest_word2vecSG.pkl',\"wb\"))"
   ],
   "id": "3190dbf00af405c8",
   "execution_count": 10,
   "outputs": []
  },
  {
   "metadata": {
    "ExecuteTime": {
     "end_time": "2025-04-02T11:05:46.865600Z",
     "start_time": "2025-04-02T11:05:46.100726Z"
    }
   },
   "cell_type": "code",
   "source": [
    "y_pred = random_forest.predict(val_embeddings)\n",
    "accuracy = accuracy_score(y_pred, y_val)\n",
    "print(f\"Validation accuracy: {accuracy}\")"
   ],
   "id": "a09599208416e822",
   "execution_count": 11,
   "outputs": []
  },
  {
   "metadata": {
    "ExecuteTime": {
     "end_time": "2025-04-02T11:05:50.427521Z",
     "start_time": "2025-04-02T11:05:49.792774Z"
    }
   },
   "cell_type": "code",
   "source": [
    "y_pred = random_forest.predict(test_embeddings)\n",
    "accuracy = accuracy_score(y_pred, y_test)\n",
    "print(f\"Test accuracy: {accuracy}\")"
   ],
   "id": "1e9b63d6508d0e79",
   "execution_count": 12,
   "outputs": []
  },
  {
   "metadata": {
    "ExecuteTime": {
     "end_time": "2025-04-01T10:03:11.447210Z",
     "start_time": "2025-04-01T10:03:11.418392Z"
    }
   },
   "cell_type": "code",
   "source": "y_test",
   "id": "3d483df054bb4271",
   "execution_count": 22,
   "outputs": []
  },
  {
   "metadata": {
    "ExecuteTime": {
     "end_time": "2025-04-01T10:15:02.643626Z",
     "start_time": "2025-04-01T10:15:02.278988Z"
    }
   },
   "cell_type": "code",
   "source": [
    "cm = confusion_matrix(y_test, y_pred)\n",
    "plt.figure(figsize=(8,6))\n",
    "sns.set_style(\"dark\")\n",
    "sns.heatmap(cm, annot=True, fmt='d', cmap=sns.cubehelix_palette(as_cmap=True), xticklabels=['Fake News', 'Actual News'], yticklabels=['Fake News', 'Actual News'],linewidth=.5)\n",
    "plt.xlabel('Predicted')\n",
    "plt.ylabel('Actual')\n",
    "plt.title('Confusion Matrix')\n",
    "plt.savefig('./plots/confusion_matrixSG.png')\n",
    "plt.show()\n"
   ],
   "id": "d676d8e876afe871",
   "execution_count": 38,
   "outputs": []
  },
  {
   "metadata": {
    "ExecuteTime": {
     "end_time": "2025-04-02T12:37:47.325190Z",
     "start_time": "2025-04-02T12:36:21.953260Z"
    }
   },
   "cell_type": "code",
   "source": [
    "text_data = ' '.join([' '.join(sentence) for sentence in x_train_tokens])\n",
    "\n",
    "wordcloud = WordCloud(width=800, height=400, background_color='white', colormap= sns.cubehelix_palette(as_cmap=True)).generate(text_data)\n",
    "\n",
    "plt.figure(figsize=(10, 5))\n",
    "plt.imshow(wordcloud, interpolation='bilinear')\n",
    "plt.axis('off')\n",
    "plt.title('WordCloud')\n",
    "plt.savefig('./plots/wordcloudSG.png')\n",
    "plt.show()\n"
   ],
   "id": "e8930551ffef9d90",
   "execution_count": 5,
   "outputs": []
  },
  {
   "metadata": {
    "ExecuteTime": {
     "end_time": "2025-04-02T12:38:14.876528Z",
     "start_time": "2025-04-02T12:37:47.325755Z"
    }
   },
   "cell_type": "code",
   "source": [
    "bigrams = [ngram for sentence in x_train_tokens for ngram in ngrams(sentence, 2)]\n",
    "bigram_counts = Counter(bigrams)\n",
    "\n",
    "most_common_bigrams = bigram_counts.most_common(10)\n",
    "bigrams, counts = zip(*most_common_bigrams)\n",
    "bigram_labels = [' '.join(bigram) for bigram in bigrams]\n",
    "plt.figure(figsize=(10, 8))\n",
    "reversed_palette = sns.cubehelix_palette( n_colors=10,reverse=True)\n",
    "\n",
    "sns.barplot(x=bigram_labels, y=counts, palette=reversed_palette, hue=bigram_labels, legend=False)\n",
    "plt.xticks(rotation=40)\n",
    "plt.xlabel('Bigrams for 2 words')\n",
    "plt.gca().xaxis.set_label_position('top')\n",
    "plt.ylabel('Frequency')\n",
    "plt.grid(axis='y', alpha=0.9)\n",
    "plt.grid(axis='x', alpha=0.9)\n",
    "plt.savefig(\"./plots/biogram2SG.png\")\n",
    "plt.show()\n"
   ],
   "id": "71dd146ca643eb4c",
   "execution_count": 6,
   "outputs": []
  },
  {
   "metadata": {
    "ExecuteTime": {
     "end_time": "2025-04-02T12:38:43.636510Z",
     "start_time": "2025-04-02T12:38:14.876528Z"
    }
   },
   "cell_type": "code",
   "source": [
    "bigrams = [ngram for sentence in x_train_tokens for ngram in ngrams(sentence, 3)]\n",
    "bigram_counts = Counter(bigrams)\n",
    "\n",
    "most_common_bigrams = bigram_counts.most_common(10)\n",
    "bigrams, counts = zip(*most_common_bigrams)\n",
    "bigram_labels = [' '.join(bigram) for bigram in bigrams]\n",
    "plt.figure(figsize=(10, 8))\n",
    "reversed_palette = sns.cubehelix_palette( n_colors=10,reverse=True)\n",
    "\n",
    "sns.barplot(x=bigram_labels, y=counts, palette=reversed_palette, hue=bigram_labels, legend=False)\n",
    "plt.xticks(rotation=40)\n",
    "plt.xlabel('Bigrams for 3 words')\n",
    "plt.gca().xaxis.set_label_position('top')\n",
    "plt.ylabel('Frequency')\n",
    "plt.grid(axis='y', alpha=0.9)\n",
    "plt.grid(axis='x', alpha=0.9)\n",
    "plt.savefig(\"./plots/biogram3SG.png\")\n",
    "plt.show()\n"
   ],
   "id": "7a7bcb3e9da36cce",
   "execution_count": 7,
   "outputs": []
  }
 ],
 "metadata": {
  "kernelspec": {
   "display_name": "Python 3",
   "language": "python",
   "name": "python3"
  },
  "language_info": {
   "codemirror_mode": {
    "name": "ipython",
    "version": 2
   },
   "file_extension": ".py",
   "mimetype": "text/x-python",
   "name": "python",
   "nbconvert_exporter": "python",
   "pygments_lexer": "ipython2",
   "version": "2.7.6"
  }
 },
 "nbformat": 4,
 "nbformat_minor": 5
}
